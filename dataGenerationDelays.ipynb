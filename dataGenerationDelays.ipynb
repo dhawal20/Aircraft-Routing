{
 "cells": [
  {
   "cell_type": "markdown",
   "metadata": {},
   "source": []
  },
  {
   "cell_type": "code",
   "execution_count": null,
   "metadata": {},
   "outputs": [],
   "source": []
  },
  {
   "cell_type": "code",
   "execution_count": 4,
   "metadata": {},
   "outputs": [],
   "source": [
    "import pandas as pd\n",
    "import numpy as np\n",
    "import math\n",
    "from sklearn.cluster import KMeans\n",
    "\n",
    "np.random.seed(0)"
   ]
  },
  {
   "cell_type": "code",
   "execution_count": 5,
   "metadata": {},
   "outputs": [],
   "source": [
    "df = pd.read_excel(\"Indigo_JAI.xlsx\",index_col=False)\n",
    "orgCounter = {}\n",
    "countList = []\n",
    "\n",
    "for i, r in df.iterrows():\n",
    "    if r['ORIGIN'] not in orgCounter:\n",
    "        orgCounter[r['ORIGIN']] = 1\n",
    "        \n",
    "    elif r['ORIGIN'] in orgCounter:\n",
    "        orgCounter[r['ORIGIN']] += 1\n",
    "        \n",
    "for key, value in orgCounter.items():\n",
    "    if [0,value] not in countList:\n",
    "        countList.append([0,value])"
   ]
  },
  {
   "cell_type": "code",
   "execution_count": 6,
   "metadata": {},
   "outputs": [
    {
     "name": "stdout",
     "output_type": "stream",
     "text": [
      "[[0, 14], [0, 2], [0, 1], [0, 3]]\n",
      "[0 1 3 2]\n"
     ]
    }
   ],
   "source": [
    "clusters = 4\n",
    "kmeans = KMeans(n_clusters=clusters, random_state=0).fit(countList)\n",
    "print(countList)\n",
    "print (kmeans.labels_)\n",
    "labelsList = np.array(kmeans.labels_)"
   ]
  },
  {
   "cell_type": "code",
   "execution_count": 7,
   "metadata": {},
   "outputs": [
    {
     "name": "stdout",
     "output_type": "stream",
     "text": [
      "{'Jaipur (JAI)': 14, 'Bengaluru (BLR)': 2, 'Chennai (MAA)': 1, 'Delhi (DEL)': 1, 'Hyderabad (HYD)': 2, 'Kolkata (CCU)': 3, 'Mumbai (BOM)': 3, 'Pune (PNQ)': 1}\n",
      "{0: ['Jaipur (JAI)'], 1: ['Bengaluru (BLR)', 'Hyderabad (HYD)'], 2: ['Kolkata (CCU)', 'Mumbai (BOM)'], 3: ['Chennai (MAA)', 'Delhi (DEL)', 'Pune (PNQ)']}\n",
      "{0: 14.0, 1: 2.0, 2: 3.0, 3: 1.0}\n",
      "[1.0, 2.0, 3.0, 14.0]\n"
     ]
    }
   ],
   "source": [
    "clusterOrg = {}\n",
    "clusterRank = {}\n",
    "clusterCount = {}\n",
    "clusterAvg = {}\n",
    "sortedList = []\n",
    "for i in range(clusters):\n",
    "    if i not in clusterOrg and i+1 not in clusterRank and i not in clusterCount and i not in clusterAvg:\n",
    "        clusterOrg[i] = []\n",
    "        clusterRank[i+1] = []\n",
    "        clusterCount[i] = []\n",
    "        clusterAvg[i] = 0\n",
    "        \n",
    "        \n",
    "cc = 0\n",
    "for i in labelsList:\n",
    "    for key, value in orgCounter.items():\n",
    "        if value == countList[cc][1]:\n",
    "            clusterOrg[i].append(key)\n",
    "            clusterCount[i].append(value)\n",
    "    cc+=1\n",
    "\n",
    "for key, value in clusterCount.items():\n",
    "    clusterAvg[key] = sum(value)/len(value)\n",
    "    sortedList.append(sum(value)/len(value))\n",
    "\n",
    "sortedList = sorted(sortedList)\n",
    "print(orgCounter)\n",
    "print(clusterOrg)\n",
    "print(clusterAvg)\n",
    "print(sortedList)"
   ]
  },
  {
   "cell_type": "code",
   "execution_count": 8,
   "metadata": {},
   "outputs": [
    {
     "name": "stdout",
     "output_type": "stream",
     "text": [
      "[1.0, 2.0, 3.0, 14.0]\n",
      "{1: ['Chennai (MAA)', 'Delhi (DEL)', 'Pune (PNQ)'], 2: ['Bengaluru (BLR)', 'Hyderabad (HYD)'], 3: ['Kolkata (CCU)', 'Mumbai (BOM)'], 4: ['Jaipur (JAI)']}\n"
     ]
    }
   ],
   "source": [
    "rr = 1\n",
    "for s in sortedList:\n",
    "    cc=0\n",
    "    for key, value in clusterAvg.items():\n",
    "        if value == s:\n",
    "            clusterRank[rr] = clusterOrg[cc]\n",
    "        cc+=1\n",
    "    rr+=1\n",
    "            \n",
    "print(sortedList)\n",
    "print(clusterRank)\n",
    "\n",
    "#Keep track of max and min count of each cluster"
   ]
  },
  {
   "cell_type": "code",
   "execution_count": 9,
   "metadata": {},
   "outputs": [
    {
     "name": "stdout",
     "output_type": "stream",
     "text": [
      "{0: (0, 750), 1: (750, 1500), 2: (1500, 2250), 3: (2250, 3000)}\n"
     ]
    }
   ],
   "source": [
    "maxDelay = 3000\n",
    "maxRangeStep = {}\n",
    "countStep = 0\n",
    "for i in range(clusters):\n",
    "    if i < clusters-1:\n",
    "        if i not in maxRangeStep:\n",
    "            maxRangeStep[i] = (countStep, countStep + math.floor(maxDelay/clusters))\n",
    "            countStep+=math.floor(maxDelay/clusters)\n",
    "    if i == clusters-1:\n",
    "        maxRangeStep[i] = (countStep, maxDelay)        \n",
    "        \n",
    "print(maxRangeStep)"
   ]
  },
  {
   "cell_type": "code",
   "execution_count": 10,
   "metadata": {},
   "outputs": [
    {
     "name": "stdout",
     "output_type": "stream",
     "text": [
      "{1: ['Chennai (MAA)-Jaipur (JAI)', 'Delhi (DEL)-Jaipur (JAI)', 'Pune (PNQ)-Jaipur (JAI)'], 2: ['Bengaluru (BLR)-Jaipur (JAI)', 'Bengaluru (BLR)-Jaipur (JAI)', 'Hyderabad (HYD)-Jaipur (JAI)', 'Hyderabad (HYD)-Jaipur (JAI)'], 3: ['Kolkata (CCU)-Jaipur (JAI)', 'Kolkata (CCU)-Jaipur (JAI)', 'Kolkata (CCU)-Jaipur (JAI)', 'Mumbai (BOM)-Jaipur (JAI)', 'Mumbai (BOM)-Jaipur (JAI)', 'Mumbai (BOM)-Jaipur (JAI)'], 4: ['Jaipur (JAI)-Bengaluru (BLR)', 'Jaipur (JAI)-Bengaluru (BLR)', 'Jaipur (JAI)-Chennai (MAA)', 'Jaipur (JAI)-Delhi (DEL)', 'Jaipur (JAI)-Delhi (DEL)', 'Jaipur (JAI)-Delhi (DEL)', 'Jaipur (JAI)-Delhi (DEL)', 'Jaipur (JAI)-Hyderabad (HYD)', 'Jaipur (JAI)-Hyderabad (HYD)', 'Jaipur (JAI)-Kolkata (CCU)', 'Jaipur (JAI)-Kolkata (CCU)', 'Jaipur (JAI)-Mumbai (BOM)', 'Jaipur (JAI)-Mumbai (BOM)', 'Jaipur (JAI)-Mumbai (BOM)']}\n"
     ]
    }
   ],
   "source": [
    "#logic: If the flight leg belongs to the first cluster,\n",
    "#then the flight leg will be assigned the priority majorly from the first range\n",
    "#occassionaly from any other range.\n",
    "#hence need to define a skewed normal distribution which will differ for each cluster,\n",
    "#the mean and the range will differ\n",
    "#Create a distribution\n",
    "\n",
    "clusterFlight = {}\n",
    "clusterFlightabs = {}\n",
    "\n",
    "for c in range(clusters):\n",
    "    if c+1 not in clusterFlight and c+1 not in clusterFlightabs:\n",
    "        clusterFlight[c+1] = []\n",
    "        clusterFlightabs[c+1] = []\n",
    "\n",
    "for key, value in clusterRank.items():\n",
    "    for i, r in df.iterrows():\n",
    "        if r['ORIGIN'] in value:\n",
    "            flightLeg = str(r['ORIGIN']) + str(\"-\") + str(r[\"DEST\"])\n",
    "            clusterFlightabs[key].append(flightLeg)\n",
    "            if flightLeg not in clusterFlight[key]:\n",
    "                clusterFlight[key].append(flightLeg)\n",
    "            \n",
    "print(clusterFlightabs)"
   ]
  },
  {
   "cell_type": "code",
   "execution_count": 11,
   "metadata": {},
   "outputs": [
    {
     "data": {
      "image/png": "[encoded data removed]",
      "text/plain": [
       "<Figure size 432x288 with 1 Axes>"
      ]
     },
     "metadata": {
      "needs_background": "light"
     },
     "output_type": "display_data"
    },
    {
     "name": "stdout",
     "output_type": "stream",
     "text": [
      "[770.82443645 335.77213677 814.06984116]\n"
     ]
    }
   ],
   "source": [
    "shape, scale = 2., 150.\n",
    "fcount = len(clusterFlightabs[1])\n",
    "s = np.random.gamma(shape, scale, fcount)\n",
    "\n",
    "import matplotlib.pyplot as plt\n",
    "import scipy.special as sps  \n",
    "import math\n",
    "\n",
    "np.random.seed(1)\n",
    "count, bins, ignored = plt.hist(s, 50, density=True)\n",
    "y = bins**(shape-1)*(np.exp(-bins/scale) /  \n",
    "                     (sps.gamma(shape)*scale**shape))\n",
    "\n",
    "plt.plot(bins, y, linewidth=2, color='r')  \n",
    "plt.show()\n",
    "print(s)\n",
    "\n",
    "s = sorted(s)\n",
    "\n",
    "ocount = []\n",
    "flightSorted = []\n",
    "clusterSort = []\n",
    "for key, value in orgCounter.items():\n",
    "    ocount.append(value)\n",
    "ocount = sorted(ocount)\n",
    "ocount.reverse()\n",
    "# print(ocount)\n",
    "# print(orgCounter)\n",
    "\n",
    "for o in ocount:\n",
    "    for key, value in orgCounter.items():\n",
    "        if value == o:\n",
    "            if key not in flightSorted:\n",
    "                flightSorted.append(key)\n",
    "            \n",
    "# print(flightSorted)\n",
    "\n",
    "flag = []\n",
    "for i in range(len(df)):\n",
    "    flag.append(0)\n",
    "    \n",
    "df['Flag'] = flag\n",
    "\n",
    "scounter = 0\n",
    "for fs in flightSorted:\n",
    "    for cl in clusterFlight[1]:\n",
    "        if fs == cl.split(\"-\")[0]:\n",
    "            for i, r in df.iterrows():\n",
    "                if r[\"ORIGIN\"] == cl.split(\"-\")[0] and r[\"DEST\"] == cl.split(\"-\")[1]:\n",
    "                    if r[\"Flag\"] == 0:\n",
    "                        df.loc[i, \"ARR_DELAY_NEW\"] = s[scounter]\n",
    "                        df.loc[i, \"Flag\"] = 1\n",
    "                        scounter+=1\n",
    "                        \n",
    "# for i, r in df.iterrows():\n",
    "#     if r[\"ARR_DELAY_NEW\"] > 0:\n",
    "#         print(r[\"ARR_DELAY_NEW\"])\n",
    "# df.drop('Flag', inplace=True, axis=1)                       \n",
    "# df.to_excel(\"testDataDay1_AA_150_revised_withdelay.xlsx\")"
   ]
  },
  {
   "cell_type": "code",
   "execution_count": 12,
   "metadata": {},
   "outputs": [
    {
     "data": {
      "image/png": "[encoded data removed]",
      "text/plain": [
       "<Figure size 432x288 with 1 Axes>"
      ]
     },
     "metadata": {
      "needs_background": "light"
     },
     "output_type": "display_data"
    },
    {
     "name": "stdout",
     "output_type": "stream",
     "text": [
      "[1128.51849169  814.03174447  824.57803412  757.45180778]\n"
     ]
    }
   ],
   "source": [
    "shape, scale = 45., 20.\n",
    "fcount = len(clusterFlightabs[2])\n",
    "s = np.random.gamma(shape, scale, fcount)\n",
    "\n",
    "import matplotlib.pyplot as plt\n",
    "import scipy.special as sps  \n",
    "import math\n",
    "\n",
    "np.random.seed(1)\n",
    "count, bins, ignored = plt.hist(s, 50, density=True)\n",
    "y = bins**(shape-1)*(np.exp(-bins/scale) /  \n",
    "                     (sps.gamma(shape)*scale**shape))\n",
    "plt.plot(bins, y, linewidth=2, color='r')  \n",
    "plt.show()\n",
    "print(s)\n",
    "\n",
    "s = sorted(s)\n",
    "\n",
    "ocount = []\n",
    "flightSorted = []\n",
    "clusterSort = []\n",
    "for key, value in orgCounter.items():\n",
    "    ocount.append(value)\n",
    "ocount = sorted(ocount)\n",
    "ocount.reverse()\n",
    "# print(ocount)\n",
    "# print(orgCounter)\n",
    "\n",
    "for o in ocount:\n",
    "    for key, value in orgCounter.items():\n",
    "        if value == o:\n",
    "            if key not in flightSorted:\n",
    "                flightSorted.append(key)\n",
    "            \n",
    "# print(flightSorted)\n",
    "\n",
    "scounter = 0\n",
    "for fs in flightSorted:\n",
    "    for cl in clusterFlight[2]:\n",
    "        if fs == cl.split(\"-\")[0]:\n",
    "            for i, r in df.iterrows():\n",
    "                if r[\"ORIGIN\"] == cl.split(\"-\")[0] and r[\"DEST\"] == cl.split(\"-\")[1]:\n",
    "                    if r[\"Flag\"] == 0:\n",
    "                        df.loc[i, \"ARR_DELAY_NEW\"] = s[scounter]\n",
    "                        df.loc[i, \"Flag\"] = 1\n",
    "                        scounter+=1"
   ]
  },
  {
   "cell_type": "code",
   "execution_count": 13,
   "metadata": {},
   "outputs": [
    {
     "data": {
      "image/png": "[encoded data removed]",
      "text/plain": [
       "<Figure size 432x288 with 1 Axes>"
      ]
     },
     "metadata": {
      "needs_background": "light"
     },
     "output_type": "display_data"
    },
    {
     "name": "stdout",
     "output_type": "stream",
     "text": [
      "[2180.83832847 1244.63524628 1273.54863824 1092.93173265 2241.49471475\n",
      " 1194.03459101]\n"
     ]
    }
   ],
   "source": [
    "shape, scale = 15, 100.\n",
    "fcount = len(clusterFlightabs[3])\n",
    "s = np.random.gamma(shape, scale, fcount)\n",
    "\n",
    "import matplotlib.pyplot as plt\n",
    "import scipy.special as sps  \n",
    "import math\n",
    "\n",
    "np.random.seed(1)\n",
    "count, bins, ignored = plt.hist(s, 50, density=True)\n",
    "y = bins**(shape-1)*(np.exp(-bins/scale) /  \n",
    "                     (sps.gamma(shape)*scale**shape))\n",
    "plt.plot(bins, y, linewidth=2, color='r')  \n",
    "plt.show()\n",
    "print(s)\n",
    "\n",
    "s = sorted(s)\n",
    "\n",
    "ocount = []\n",
    "flightSorted = []\n",
    "clusterSort = []\n",
    "for key, value in orgCounter.items():\n",
    "    ocount.append(value)\n",
    "ocount = sorted(ocount)\n",
    "ocount.reverse()\n",
    "# print(ocount)\n",
    "# print(orgCounter)\n",
    "\n",
    "for o in ocount:\n",
    "    for key, value in orgCounter.items():\n",
    "        if value == o:\n",
    "            if key not in flightSorted:\n",
    "                flightSorted.append(key)\n",
    "            \n",
    "# print(flightSorted)\n",
    "\n",
    "scounter = 0\n",
    "for fs in flightSorted:\n",
    "    for cl in clusterFlight[3]:\n",
    "        if fs == cl.split(\"-\")[0]:\n",
    "            for i, r in df.iterrows():\n",
    "                if r[\"ORIGIN\"] == cl.split(\"-\")[0] and r[\"DEST\"] == cl.split(\"-\")[1]:\n",
    "                    if r[\"Flag\"] == 0:\n",
    "                        df.loc[i, \"ARR_DELAY_NEW\"] = s[scounter]\n",
    "                        df.loc[i, \"Flag\"] = 1\n",
    "                        scounter+=1\n",
    "# df.drop('Flag', inplace=True, axis=1)                       \n",
    "# df.to_excel(\"testDataDay1_AA_150_revised_withdelay.xlsx\")"
   ]
  },
  {
   "cell_type": "code",
   "execution_count": 14,
   "metadata": {},
   "outputs": [
    {
     "data": {
      "image/png": "[encoded data removed]",
      "text/plain": [
       "<Figure size 432x288 with 1 Axes>"
      ]
     },
     "metadata": {
      "needs_background": "light"
     },
     "output_type": "display_data"
    },
    {
     "name": "stdout",
     "output_type": "stream",
     "text": [
      "[2896.54552931 1800.84683472 1835.73539569 1616.25764113 2965.67519516\n",
      " 1739.57258777 2805.15491863 1264.46340968 2626.12023396 1605.89074257\n",
      " 1989.26663212 1692.72360391 1605.61106905 2631.9668336 ]\n"
     ]
    }
   ],
   "source": [
    "shape, scale = 21., 100.\n",
    "fcount = len(clusterFlightabs[4])\n",
    "s = np.random.gamma(shape, scale, fcount)\n",
    "\n",
    "import matplotlib.pyplot as plt\n",
    "import scipy.special as sps  \n",
    "import math\n",
    "\n",
    "np.random.seed(1)\n",
    "count, bins, ignored = plt.hist(s, 50, density=True)\n",
    "y = bins**(shape-1)*(np.exp(-bins/scale) /  \n",
    "                     (sps.gamma(shape)*scale**shape))\n",
    "plt.plot(bins, y, linewidth=2, color='r')  \n",
    "plt.show()\n",
    "print(s)\n",
    "\n",
    "s = sorted(s)\n",
    "\n",
    "ocount = []\n",
    "flightSorted = []\n",
    "clusterSort = []\n",
    "for key, value in orgCounter.items():\n",
    "    ocount.append(value)\n",
    "ocount = sorted(ocount)\n",
    "ocount.reverse()\n",
    "# print(ocount)\n",
    "# print(orgCounter)\n",
    "\n",
    "for o in ocount:\n",
    "    for key, value in orgCounter.items():\n",
    "        if value == o:\n",
    "            if key not in flightSorted:\n",
    "                flightSorted.append(key)\n",
    "            \n",
    "# print(flightSorted)\n",
    "\n",
    "scounter = 0\n",
    "for fs in flightSorted:\n",
    "    for cl in clusterFlight[4]:\n",
    "        if fs == cl.split(\"-\")[0]:\n",
    "            for i, r in df.iterrows():\n",
    "                if r[\"ORIGIN\"] == cl.split(\"-\")[0] and r[\"DEST\"] == cl.split(\"-\")[1]:\n",
    "                    if r[\"Flag\"] == 0:\n",
    "                        df.loc[i, \"ARR_DELAY_NEW\"] = s[scounter]\n",
    "                        df.loc[i, \"Flag\"] = 1\n",
    "                        scounter+=1\n",
    "# df.drop('Flag', inplace=True, axis=1)                       \n",
    "# df.to_excel(\"testDataDay1_AA_150_revised_withdelay.xlsx\")"
   ]
  },
  {
   "cell_type": "code",
   "execution_count": 15,
   "metadata": {},
   "outputs": [
    {
     "ename": "KeyError",
     "evalue": "5",
     "output_type": "error",
     "traceback": [
      "\u001b[1;31m---------------------------------------------------------------------------\u001b[0m",
      "\u001b[1;31mKeyError\u001b[0m                                  Traceback (most recent call last)",
      "\u001b[1;32m<ipython-input-15-85493976476b>\u001b[0m in \u001b[0;36m<module>\u001b[1;34m\u001b[0m\n\u001b[0;32m      1\u001b[0m \u001b[0mshape\u001b[0m\u001b[1;33m,\u001b[0m \u001b[0mscale\u001b[0m \u001b[1;33m=\u001b[0m \u001b[1;36m27.\u001b[0m\u001b[1;33m,\u001b[0m \u001b[1;36m100.\u001b[0m\u001b[1;33m\u001b[0m\u001b[1;33m\u001b[0m\u001b[0m\n\u001b[1;32m----> 2\u001b[1;33m \u001b[0mfcount\u001b[0m \u001b[1;33m=\u001b[0m \u001b[0mlen\u001b[0m\u001b[1;33m(\u001b[0m\u001b[0mclusterFlightabs\u001b[0m\u001b[1;33m[\u001b[0m\u001b[1;36m5\u001b[0m\u001b[1;33m]\u001b[0m\u001b[1;33m)\u001b[0m\u001b[1;33m\u001b[0m\u001b[1;33m\u001b[0m\u001b[0m\n\u001b[0m\u001b[0;32m      3\u001b[0m \u001b[0ms\u001b[0m \u001b[1;33m=\u001b[0m \u001b[0mnp\u001b[0m\u001b[1;33m.\u001b[0m\u001b[0mrandom\u001b[0m\u001b[1;33m.\u001b[0m\u001b[0mgamma\u001b[0m\u001b[1;33m(\u001b[0m\u001b[0mshape\u001b[0m\u001b[1;33m,\u001b[0m \u001b[0mscale\u001b[0m\u001b[1;33m,\u001b[0m \u001b[0mfcount\u001b[0m\u001b[1;33m)\u001b[0m\u001b[1;33m\u001b[0m\u001b[1;33m\u001b[0m\u001b[0m\n\u001b[0;32m      4\u001b[0m \u001b[1;33m\u001b[0m\u001b[0m\n\u001b[0;32m      5\u001b[0m \u001b[1;32mimport\u001b[0m \u001b[0mmatplotlib\u001b[0m\u001b[1;33m.\u001b[0m\u001b[0mpyplot\u001b[0m \u001b[1;32mas\u001b[0m \u001b[0mplt\u001b[0m\u001b[1;33m\u001b[0m\u001b[1;33m\u001b[0m\u001b[0m\n",
      "\u001b[1;31mKeyError\u001b[0m: 5"
     ]
    }
   ],
   "source": [
    "shape, scale = 27., 100.\n",
    "fcount = len(clusterFlightabs[5])\n",
    "s = np.random.gamma(shape, scale, fcount)\n",
    "\n",
    "import matplotlib.pyplot as plt\n",
    "import scipy.special as sps  \n",
    "import math\n",
    "\n",
    "np.random.seed(1)\n",
    "count, bins, ignored = plt.hist(s, 50, density=True)\n",
    "y = bins**(shape-1)*(np.exp(-bins/scale) /  \n",
    "                     (sps.gamma(shape)*scale**shape))\n",
    "plt.plot(bins, y, linewidth=2, color='r')  \n",
    "plt.show()\n",
    "print(s)\n",
    "\n",
    "s = sorted(s)\n",
    "\n",
    "ocount = []\n",
    "flightSorted = []\n",
    "clusterSort = []\n",
    "for key, value in orgCounter.items():\n",
    "    ocount.append(value)\n",
    "ocount = sorted(ocount)\n",
    "ocount.reverse()\n",
    "# print(ocount)\n",
    "# print(orgCounter)\n",
    "\n",
    "for o in ocount:\n",
    "    for key, value in orgCounter.items():\n",
    "        if value == o:\n",
    "            if key not in flightSorted:\n",
    "                flightSorted.append(key)\n",
    "\n",
    "# print(flightSorted)\n",
    "\n",
    "scounter = 0\n",
    "for fs in flightSorted:\n",
    "    for cl in clusterFlight[5]:\n",
    "        if fs == cl.split(\"-\")[0]:\n",
    "            for i, r in df.iterrows():\n",
    "                if r[\"ORIGIN\"] == cl.split(\"-\")[0] and r[\"DEST\"] == cl.split(\"-\")[1]:\n",
    "                    if r[\"Flag\"] == 0:\n",
    "                        df.loc[i, \"ARR_DELAY_NEW\"] = s[scounter]\n",
    "                        df.loc[i, \"Flag\"] = 1\n",
    "                        scounter+=1\n",
    "\n",
    "# print(df[\"ARR_DELAY_NEW\"])\n",
    "                        \n",
    "df.drop('Flag', inplace=True, axis=1)\n",
    "# df.to_excel(\"testDataDay1_AA_20_revised_withdelay.xlsx\")"
   ]
  },
  {
   "cell_type": "code",
   "execution_count": 16,
   "metadata": {},
   "outputs": [
    {
     "name": "stdout",
     "output_type": "stream",
     "text": [
      "[14, 3, 3, 2, 2, 1, 1, 1]\n",
      "[('ORIGIN', 'COUNT', 'CLUSTER_ID'), ('Jaipur (JAI)', 14, 4), ('Kolkata (CCU)', 3, 3), ('Mumbai (BOM)', 3, 3), ('Bengaluru (BLR)', 2, 2), ('Hyderabad (HYD)', 2, 2), ('Chennai (MAA)', 1, 1), ('Delhi (DEL)', 1, 1), ('Pune (PNQ)', 1, 1)]\n"
     ]
    }
   ],
   "source": [
    "airport_res = []\n",
    "airport_res.append(('ORIGIN', 'COUNT', 'CLUSTER_ID'))\n",
    "print(ocount)\n",
    "ffcounter = 0\n",
    "for f in flightSorted:\n",
    "    for key, value in clusterRank.items():\n",
    "        if f in value:\n",
    "            airport_res.append((f, ocount[ffcounter], key))\n",
    "        \n",
    "    ffcounter+=1\n",
    "    \n",
    "print(airport_res)\n",
    "\n",
    "pd.DataFrame(airport_res).to_excel('Indigo_airport_res_20.xlsx', header=False, index=False)"
   ]
  },
  {
   "cell_type": "code",
   "execution_count": 17,
   "metadata": {},
   "outputs": [
    {
     "name": "stderr",
     "output_type": "stream",
     "text": [
      "<ipython-input-17-0c97bb18faef>:10: SettingWithCopyWarning: \n",
      "A value is trying to be set on a copy of a slice from a DataFrame\n",
      "\n",
      "See the caveats in the documentation: https://pandas.pydata.org/pandas-docs/stable/user_guide/indexing.html#returning-a-view-versus-a-copy\n",
      "  df[\"CLUSTER_ID\"][ii] = r[\"CLUSTER_ID\"]\n"
     ]
    }
   ],
   "source": [
    "adf = pd.read_excel(\"Indigo_airport_res_20.xlsx\",index_col=False)\n",
    "cid = []\n",
    "\n",
    "list_zeroes = list(np.zeros(len(df)))\n",
    "df[\"CLUSTER_ID\"] = list_zeroes\n",
    "\n",
    "for i, r in adf.iterrows():\n",
    "    for ii, rr in df.iterrows():\n",
    "        if r[\"ORIGIN\"] == rr[\"ORIGIN\"]:\n",
    "            df[\"CLUSTER_ID\"][ii] = r[\"CLUSTER_ID\"]\n",
    "#             cid.insert(ii, r[\"CLUSTER_ID\"])\n",
    "\n",
    "# df[\"CLUSTER_ID\"] = cid\n",
    "df.to_excel('Indigo_JAI_withdelay.xlsx')       "
   ]
  },
  {
   "cell_type": "code",
   "execution_count": null,
   "metadata": {},
   "outputs": [],
   "source": []
  },
  {
   "cell_type": "code",
   "execution_count": null,
   "metadata": {},
   "outputs": [],
   "source": []
  },
  {
   "cell_type": "code",
   "execution_count": null,
   "metadata": {},
   "outputs": [],
   "source": []
  }
 ],
 "metadata": {
  "kernelspec": {
   "display_name": "Python 3",
   "language": "python",
   "name": "python3"
  },
  "language_info": {
   "codemirror_mode": {
    "name": "ipython",
    "version": 3
   },
   "file_extension": ".py",
   "mimetype": "text/x-python",
   "name": "python",
   "nbconvert_exporter": "python",
   "pygments_lexer": "ipython3",
   "version": "3.8.3"
  }
 },
 "nbformat": 4,
 "nbformat_minor": 4
}
