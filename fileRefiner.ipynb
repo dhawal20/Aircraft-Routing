{
 "cells": [
  {
   "cell_type": "code",
   "execution_count": 1,
   "metadata": {},
   "outputs": [],
   "source": [
    "import pandas as pd\n",
    "import numpy as np\n",
    "import datetime\n",
    "from datetime import datetime"
   ]
  },
  {
   "cell_type": "code",
   "execution_count": 2,
   "metadata": {},
   "outputs": [],
   "source": [
    "df = pd.read_excel(\"Indigo_Data_Format_withdelay_withdemand.xlsx\",index_col=False)"
   ]
  },
  {
   "cell_type": "code",
   "execution_count": 3,
   "metadata": {},
   "outputs": [],
   "source": [
    "class FlightLeg:\n",
    "\n",
    "    def __init__(self,origin,dest,day,dep_datetime,arr_datetime):\n",
    "        self.origin = origin\n",
    "        self.dest = dest\n",
    "        self.day = day\n",
    "        self.dep_datetime = self.dateTimeObject(str(dep_datetime))\n",
    "        self.arr_datetime = self.dateTimeObject(str(arr_datetime))\n",
    "        \n",
    "    def dateTimeObject(self,String):\n",
    "        return datetime.strptime(String,\"%Y-%m-%d %H:%M:%S\")"
   ]
  },
  {
   "cell_type": "code",
   "execution_count": 4,
   "metadata": {},
   "outputs": [],
   "source": [
    "def find_any_connections(node, node_dict):\n",
    "    a = 0\n",
    "    b = 0\n",
    "    res = False\n",
    "    \n",
    "    for i in range(len(node_dict)):\n",
    "        if node.dest == node_dict[i].origin:\n",
    "            if node.arr_datetime < node_dict[i].dep_datetime:\n",
    "                if node.day <= node_dict[i].day:\n",
    "                    b+=1\n",
    "                    \n",
    "        if node.origin == node_dict[i].dest:\n",
    "            if node.dep_datetime > node_dict[i].arr_datetime:\n",
    "                if node.day >= node_dict[i].day:\n",
    "                    a+=1\n",
    "                    \n",
    "    if a != 0 or b != 0:\n",
    "        res = True\n",
    "        \n",
    "    return res"
   ]
  },
  {
   "cell_type": "code",
   "execution_count": 5,
   "metadata": {},
   "outputs": [
    {
     "name": "stdout",
     "output_type": "stream",
     "text": [
      "1134\n",
      "1049\n"
     ]
    }
   ],
   "source": [
    "print(len(df))\n",
    "object_dict = {}\n",
    "for i, r in df.iterrows():\n",
    "    \n",
    "    d1 = datetime.strptime(str(r[\"CRS_ARR_DATETIME\"]), \"%Y-%m-%d %H:%M:%S\")\n",
    "    d2 = datetime.strptime(str(r[\"CRS_DEP_DATETIME\"]), \"%Y-%m-%d %H:%M:%S\")\n",
    "    if ((d1-d2).total_seconds() < 3600.0):\n",
    "        df.drop(i, inplace = True)\n",
    "        \n",
    "print(len(df))\n",
    "\n",
    "df = df.reset_index()"
   ]
  },
  {
   "cell_type": "code",
   "execution_count": 6,
   "metadata": {},
   "outputs": [
    {
     "name": "stdout",
     "output_type": "stream",
     "text": [
      "1049\n",
      "1049\n"
     ]
    }
   ],
   "source": [
    "print(len(df))\n",
    "for i, r in df.iterrows():\n",
    "    object_dict.update({i: FlightLeg(r[\"ORIGIN\"],r[\"DEST\"],r[\"DAY_OF_MONTH\"]\n",
    "                                     , r[\"CRS_DEP_DATETIME\"],r[\"CRS_ARR_DATETIME\"])})\n",
    "    \n",
    "for i in range(len(object_dict)):\n",
    "    res = find_any_connections(object_dict[i], object_dict)\n",
    "    if res == False:\n",
    "#         print(i)\n",
    "#         print(object_dict[i].origin, object_dict[i].dest, object_dict[i].dep_datetime, object_dict[i].arr_datetime)\n",
    "        df.drop(i, inplace = True)\n",
    "        \n",
    "print(len(df))\n",
    "\n",
    "df = df.reset_index()"
   ]
  },
  {
   "cell_type": "code",
   "execution_count": 7,
   "metadata": {},
   "outputs": [],
   "source": [
    "df.to_excel(\"Indigo_Data_Format_withdelay_withdemand_revisedV2.xlsx\")"
   ]
  }
 ],
 "metadata": {
  "kernelspec": {
   "display_name": "Python 3",
   "language": "python",
   "name": "python3"
  },
  "language_info": {
   "codemirror_mode": {
    "name": "ipython",
    "version": 3
   },
   "file_extension": ".py",
   "mimetype": "text/x-python",
   "name": "python",
   "nbconvert_exporter": "python",
   "pygments_lexer": "ipython3",
   "version": "3.8.3"
  }
 },
 "nbformat": 4,
 "nbformat_minor": 4
}
