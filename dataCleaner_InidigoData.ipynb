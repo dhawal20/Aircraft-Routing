{
 "cells": [
  {
   "cell_type": "code",
   "execution_count": 1,
   "metadata": {},
   "outputs": [],
   "source": [
    "import pandas as pd\n",
    "import numpy as np\n",
    "from datetime import timedelta\n",
    "from datetime import datetime"
   ]
  },
  {
   "cell_type": "code",
   "execution_count": 2,
   "metadata": {},
   "outputs": [],
   "source": [
    "main_df = pd.read_excel(\"Indigo_Data_Initial_Format.xlsx\")"
   ]
  },
  {
   "cell_type": "code",
   "execution_count": 3,
   "metadata": {},
   "outputs": [],
   "source": [
    "crsArr = []\n",
    "crsDep = []\n",
    "flights = []\n",
    "\n",
    "for i, r in main_df.iterrows():\n",
    "    crsArr.append(datetime(int(2022), int(r[\"MONTH\"]), int(r[\"DAY_OF_MONTH\"])\n",
    "                           , int(r[\"Arrival(LT)\"].split(\":\")[0])\n",
    "                           , int(r[\"Arrival(LT)\"].split(\":\")[1]), 0))\n",
    "    crsDep.append(datetime(int(2022), int(r[\"MONTH\"]), int(r[\"DAY_OF_MONTH\"])\n",
    "                           , int(r[\"Departure(LT)\"].split(\":\")[0])\n",
    "                           , int(r[\"Departure(LT)\"].split(\":\")[1]), 0))\n",
    "    flights.append(str(r[\"ORIGIN\"]) + str(\"-\") + str(r[\"DEST\"]))\n",
    "    \n",
    "main_df[\"CRS_DEP_DATETIME\"] = crsDep\n",
    "main_df[\"CRS_ARR_DATETIME\"] = crsArr\n",
    "main_df[\"FLIGHTS\"] = flights"
   ]
  },
  {
   "cell_type": "code",
   "execution_count": 4,
   "metadata": {},
   "outputs": [],
   "source": [
    "main_df.to_excel(\"Indigo_Data_Format.xlsx\",index=False)"
   ]
  },
  {
   "cell_type": "code",
   "execution_count": null,
   "metadata": {},
   "outputs": [],
   "source": []
  },
  {
   "cell_type": "code",
   "execution_count": null,
   "metadata": {},
   "outputs": [],
   "source": []
  },
  {
   "cell_type": "code",
   "execution_count": null,
   "metadata": {},
   "outputs": [],
   "source": []
  }
 ],
 "metadata": {
  "kernelspec": {
   "display_name": "Python 3",
   "language": "python",
   "name": "python3"
  },
  "language_info": {
   "codemirror_mode": {
    "name": "ipython",
    "version": 3
   },
   "file_extension": ".py",
   "mimetype": "text/x-python",
   "name": "python",
   "nbconvert_exporter": "python",
   "pygments_lexer": "ipython3",
   "version": "3.8.3"
  }
 },
 "nbformat": 4,
 "nbformat_minor": 4
}
